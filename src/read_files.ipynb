{
 "cells": [
  {
   "cell_type": "code",
   "execution_count": null,
   "metadata": {},
   "outputs": [],
   "source": [
    "# convert docx to txt\n",
    "# modified from: https://gist.github.com/bufke/8798262\n",
    "\n",
    "from subprocess import Popen, PIPE\n",
    "from docx import opendocx, getdocumenttext\n",
    "\n",
    "\n",
    "def docx_to_text(filename, file_path):\n",
    "    assert filename[-5:] == \".docx\"\n",
    "    document = opendocx(file_path)\n",
    "    paratextlist = getdocumenttext(document)\n",
    "    \n",
    "    txtfile = filename[:-5] + '.txt'\n",
    "    with open(txtfile,'w') as file:\n",
    "        file.write('\\n\\n'.join(paratextlist))\n",
    "    \n",
    "    print('{0} converted to .txt file.'.format(filename))\n"
   ]
  },
  {
   "cell_type": "code",
   "execution_count": null,
   "metadata": {},
   "outputs": [],
   "source": [
    "# parse txt file (manually converted from docx)\n",
    "\n",
    "from src import read\n",
    "def read_txt(filename):\n",
    "    '''\n",
    "    Read .txt file in the format of\n",
    "    [Question]\n",
    "    [Answer]\n",
    "    [Grade]\n",
    "    '''\n",
    "    assert filename[-4:]=='.txt'\n",
    "    with open(filename, encoding=\"utf-8\") as f:\n",
    "        cache = []\n",
    "        for line in f:\n",
    "            line=line.strip()\n",
    "            if line.startswith('[Question]'):\n",
    "                question = line[10:]\n",
    "            elif line.startswith('[Answer]'):\n",
    "                cache.append(line[8:])\n",
    "            elif line.startswith('[Grade]'):\n",
    "                try:\n",
    "                    grade = float(line[7:])\n",
    "                except ValueError: # no grade available\n",
    "                    grade = None\n",
    "                yield read.Essay(question,essay,grade,info=filename)\n",
    "            elif line:\n",
    "                cache.append(line)"
   ]
  }
 ],
 "metadata": {
  "kernelspec": {
   "display_name": "Python 3",
   "language": "python",
   "name": "python3"
  },
  "language_info": {
   "codemirror_mode": {
    "name": "ipython",
    "version": 3
   },
   "file_extension": ".py",
   "mimetype": "text/x-python",
   "name": "python",
   "nbconvert_exporter": "python",
   "pygments_lexer": "ipython3",
   "version": "3.5.2"
  }
 },
 "nbformat": 4,
 "nbformat_minor": 2
}
